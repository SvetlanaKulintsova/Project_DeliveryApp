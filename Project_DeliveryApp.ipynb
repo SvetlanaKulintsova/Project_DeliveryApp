{
 "cells": [
  {
   "cell_type": "markdown",
   "metadata": {},
   "source": [
    "# Кейс №2 - Приложение доставки"
   ]
  },
  {
   "cell_type": "markdown",
   "metadata": {},
   "source": [
    "Команда внедрила в приложение умную систему рекомендации товаров – предполагается, что такая система поможет пользователям эффективнее работать с приложением и лучше находить необходимые товары.\n",
    "\n",
    "Чтобы проверить эффективность системы рекомендаций, был проведен АБ-тест. В группе 1 оказались пользователи с новой системой рекомендаций, в группе 0 пользователи со старой версией приложения, где нет рекомендации товаров.\n",
    "\n",
    "Ваша задача – оценить, смогла ли новая система рекомендаций принести пользу бизнесу и пользователям приложения. Для этого нужно выбрать метрики, которые отвечают за качество сервиса, и статистически сравнить эти метрики в двух группах.\n",
    "\n",
    "Результат вашей работы – аналитическое заключение с ответом на вопрос, стоит ли включать новую систему рекомендаций на всех пользователей.\n",
    "\n"
   ]
  },
  {
   "cell_type": "markdown",
   "metadata": {},
   "source": [
    "**Данные:**<br>\n",
    "***ab_users_data*** – история заказов пользователей, в этой таблице есть информация о том, какие заказы создавали и отменяли пользователи\n",
    "***ab_orders*** – подробная информация о составе заказа, тут для каждого заказа есть список id тех продуктов, которые были включены в заказ\n",
    "***ab_products*** – подробная информация о продуктах, их название и стоимость"
   ]
  },
  {
   "cell_type": "code",
   "execution_count": 359,
   "metadata": {},
   "outputs": [],
   "source": [
    "import pandas as pd\n",
    "import numpy as np\n",
    "import pingouin as pg\n",
    "import scipy.stats as ss\n",
    "from  scipy.stats import mannwhitneyu\n",
    "\n",
    "import seaborn as sns\n",
    "import matplotlib.pyplot as plt"
   ]
  },
  {
   "cell_type": "code",
   "execution_count": 360,
   "metadata": {},
   "outputs": [],
   "source": [
    "sns.set(\n",
    "        style = 'whitegrid',\n",
    "        font_scale = 1,\n",
    "        rc = {'figure.figsize': (12, 7)}\n",
    "       )"
   ]
  },
  {
   "cell_type": "code",
   "execution_count": 361,
   "metadata": {},
   "outputs": [],
   "source": [
    "users = pd.read_csv('ab_users_data.csv')"
   ]
  },
  {
   "cell_type": "code",
   "execution_count": 362,
   "metadata": {},
   "outputs": [],
   "source": [
    "orders = pd.read_csv('ab_orders.csv')"
   ]
  },
  {
   "cell_type": "code",
   "execution_count": 363,
   "metadata": {},
   "outputs": [],
   "source": [
    "products = pd.read_csv('ab_products.csv')"
   ]
  },
  {
   "cell_type": "code",
   "execution_count": 6,
   "metadata": {},
   "outputs": [
    {
     "data": {
      "text/html": [
       "<div>\n",
       "<style scoped>\n",
       "    .dataframe tbody tr th:only-of-type {\n",
       "        vertical-align: middle;\n",
       "    }\n",
       "\n",
       "    .dataframe tbody tr th {\n",
       "        vertical-align: top;\n",
       "    }\n",
       "\n",
       "    .dataframe thead th {\n",
       "        text-align: right;\n",
       "    }\n",
       "</style>\n",
       "<table border=\"1\" class=\"dataframe\">\n",
       "  <thead>\n",
       "    <tr style=\"text-align: right;\">\n",
       "      <th></th>\n",
       "      <th>user_id</th>\n",
       "      <th>order_id</th>\n",
       "      <th>action</th>\n",
       "      <th>time</th>\n",
       "      <th>date</th>\n",
       "      <th>group</th>\n",
       "    </tr>\n",
       "  </thead>\n",
       "  <tbody>\n",
       "    <tr>\n",
       "      <th>0</th>\n",
       "      <td>964</td>\n",
       "      <td>1255</td>\n",
       "      <td>create_order</td>\n",
       "      <td>2022-08-26 00:00:19.000000</td>\n",
       "      <td>2022-08-26</td>\n",
       "      <td>0</td>\n",
       "    </tr>\n",
       "    <tr>\n",
       "      <th>1</th>\n",
       "      <td>965</td>\n",
       "      <td>1256</td>\n",
       "      <td>create_order</td>\n",
       "      <td>2022-08-26 00:02:21.000000</td>\n",
       "      <td>2022-08-26</td>\n",
       "      <td>1</td>\n",
       "    </tr>\n",
       "    <tr>\n",
       "      <th>2</th>\n",
       "      <td>964</td>\n",
       "      <td>1257</td>\n",
       "      <td>create_order</td>\n",
       "      <td>2022-08-26 00:02:27.000000</td>\n",
       "      <td>2022-08-26</td>\n",
       "      <td>0</td>\n",
       "    </tr>\n",
       "    <tr>\n",
       "      <th>3</th>\n",
       "      <td>966</td>\n",
       "      <td>1258</td>\n",
       "      <td>create_order</td>\n",
       "      <td>2022-08-26 00:02:56.000000</td>\n",
       "      <td>2022-08-26</td>\n",
       "      <td>0</td>\n",
       "    </tr>\n",
       "    <tr>\n",
       "      <th>4</th>\n",
       "      <td>967</td>\n",
       "      <td>1259</td>\n",
       "      <td>create_order</td>\n",
       "      <td>2022-08-26 00:03:37.000000</td>\n",
       "      <td>2022-08-26</td>\n",
       "      <td>1</td>\n",
       "    </tr>\n",
       "  </tbody>\n",
       "</table>\n",
       "</div>"
      ],
      "text/plain": [
       "   user_id  order_id        action                        time        date  \\\n",
       "0      964      1255  create_order  2022-08-26 00:00:19.000000  2022-08-26   \n",
       "1      965      1256  create_order  2022-08-26 00:02:21.000000  2022-08-26   \n",
       "2      964      1257  create_order  2022-08-26 00:02:27.000000  2022-08-26   \n",
       "3      966      1258  create_order  2022-08-26 00:02:56.000000  2022-08-26   \n",
       "4      967      1259  create_order  2022-08-26 00:03:37.000000  2022-08-26   \n",
       "\n",
       "   group  \n",
       "0      0  \n",
       "1      1  \n",
       "2      0  \n",
       "3      0  \n",
       "4      1  "
      ]
     },
     "execution_count": 6,
     "metadata": {},
     "output_type": "execute_result"
    }
   ],
   "source": [
    "users.head()"
   ]
  },
  {
   "cell_type": "code",
   "execution_count": 8,
   "metadata": {},
   "outputs": [
    {
     "name": "stdout",
     "output_type": "stream",
     "text": [
      "<class 'pandas.core.frame.DataFrame'>\n",
      "RangeIndex: 4337 entries, 0 to 4336\n",
      "Data columns (total 6 columns):\n",
      " #   Column    Non-Null Count  Dtype \n",
      "---  ------    --------------  ----- \n",
      " 0   user_id   4337 non-null   int64 \n",
      " 1   order_id  4337 non-null   int64 \n",
      " 2   action    4337 non-null   object\n",
      " 3   time      4337 non-null   object\n",
      " 4   date      4337 non-null   object\n",
      " 5   group     4337 non-null   int64 \n",
      "dtypes: int64(3), object(3)\n",
      "memory usage: 203.4+ KB\n"
     ]
    }
   ],
   "source": [
    "users.info()"
   ]
  },
  {
   "cell_type": "markdown",
   "metadata": {},
   "source": [
    "В таблице пользователей 4337 строк; пропущенных значений нет; колонки, содержащие данные с датой, приведем к соответствующему типу. "
   ]
  },
  {
   "cell_type": "code",
   "execution_count": 364,
   "metadata": {},
   "outputs": [],
   "source": [
    "# Приводим колонку time к типу datetime.\n",
    "users.time = pd.to_datetime(users.time)"
   ]
  },
  {
   "cell_type": "code",
   "execution_count": 365,
   "metadata": {},
   "outputs": [],
   "source": [
    "# Приводим колонку date к типу datetime.\n",
    "users.date = pd.to_datetime(users.date)"
   ]
  },
  {
   "cell_type": "code",
   "execution_count": 11,
   "metadata": {},
   "outputs": [
    {
     "data": {
      "text/html": [
       "<div>\n",
       "<style scoped>\n",
       "    .dataframe tbody tr th:only-of-type {\n",
       "        vertical-align: middle;\n",
       "    }\n",
       "\n",
       "    .dataframe tbody tr th {\n",
       "        vertical-align: top;\n",
       "    }\n",
       "\n",
       "    .dataframe thead th {\n",
       "        text-align: right;\n",
       "    }\n",
       "</style>\n",
       "<table border=\"1\" class=\"dataframe\">\n",
       "  <thead>\n",
       "    <tr style=\"text-align: right;\">\n",
       "      <th></th>\n",
       "      <th>order_id</th>\n",
       "      <th>creation_time</th>\n",
       "      <th>product_ids</th>\n",
       "    </tr>\n",
       "  </thead>\n",
       "  <tbody>\n",
       "    <tr>\n",
       "      <th>0</th>\n",
       "      <td>1255</td>\n",
       "      <td>2022-08-26 00:00:19.000000</td>\n",
       "      <td>{75, 22, 53, 84}</td>\n",
       "    </tr>\n",
       "    <tr>\n",
       "      <th>1</th>\n",
       "      <td>1256</td>\n",
       "      <td>2022-08-26 00:02:21.000000</td>\n",
       "      <td>{56, 76, 39}</td>\n",
       "    </tr>\n",
       "    <tr>\n",
       "      <th>2</th>\n",
       "      <td>1257</td>\n",
       "      <td>2022-08-26 00:02:27.000000</td>\n",
       "      <td>{76, 34, 41, 38}</td>\n",
       "    </tr>\n",
       "    <tr>\n",
       "      <th>3</th>\n",
       "      <td>1258</td>\n",
       "      <td>2022-08-26 00:02:56.000000</td>\n",
       "      <td>{74, 6}</td>\n",
       "    </tr>\n",
       "    <tr>\n",
       "      <th>4</th>\n",
       "      <td>1259</td>\n",
       "      <td>2022-08-26 00:03:37.000000</td>\n",
       "      <td>{20, 45, 67, 26}</td>\n",
       "    </tr>\n",
       "  </tbody>\n",
       "</table>\n",
       "</div>"
      ],
      "text/plain": [
       "   order_id               creation_time       product_ids\n",
       "0      1255  2022-08-26 00:00:19.000000  {75, 22, 53, 84}\n",
       "1      1256  2022-08-26 00:02:21.000000      {56, 76, 39}\n",
       "2      1257  2022-08-26 00:02:27.000000  {76, 34, 41, 38}\n",
       "3      1258  2022-08-26 00:02:56.000000           {74, 6}\n",
       "4      1259  2022-08-26 00:03:37.000000  {20, 45, 67, 26}"
      ]
     },
     "execution_count": 11,
     "metadata": {},
     "output_type": "execute_result"
    }
   ],
   "source": [
    "orders.head()"
   ]
  },
  {
   "cell_type": "code",
   "execution_count": 12,
   "metadata": {},
   "outputs": [
    {
     "name": "stdout",
     "output_type": "stream",
     "text": [
      "<class 'pandas.core.frame.DataFrame'>\n",
      "RangeIndex: 4123 entries, 0 to 4122\n",
      "Data columns (total 3 columns):\n",
      " #   Column         Non-Null Count  Dtype \n",
      "---  ------         --------------  ----- \n",
      " 0   order_id       4123 non-null   int64 \n",
      " 1   creation_time  4123 non-null   object\n",
      " 2   product_ids    4123 non-null   object\n",
      "dtypes: int64(1), object(2)\n",
      "memory usage: 96.8+ KB\n"
     ]
    }
   ],
   "source": [
    "orders.info()"
   ]
  },
  {
   "cell_type": "markdown",
   "metadata": {},
   "source": [
    "В таблице заказов 4123 строк; пропущенных значений нет; колонку, содержащую данные с датой, приведем к соответствующему типу. ID продуктов содержатся одной строкой в ячейке."
   ]
  },
  {
   "cell_type": "code",
   "execution_count": 366,
   "metadata": {},
   "outputs": [],
   "source": [
    "# Приводим колонку creation_time к типу datetime.\n",
    "orders.creation_time = pd.to_datetime(orders.creation_time)"
   ]
  },
  {
   "cell_type": "code",
   "execution_count": 14,
   "metadata": {},
   "outputs": [
    {
     "data": {
      "text/html": [
       "<div>\n",
       "<style scoped>\n",
       "    .dataframe tbody tr th:only-of-type {\n",
       "        vertical-align: middle;\n",
       "    }\n",
       "\n",
       "    .dataframe tbody tr th {\n",
       "        vertical-align: top;\n",
       "    }\n",
       "\n",
       "    .dataframe thead th {\n",
       "        text-align: right;\n",
       "    }\n",
       "</style>\n",
       "<table border=\"1\" class=\"dataframe\">\n",
       "  <thead>\n",
       "    <tr style=\"text-align: right;\">\n",
       "      <th></th>\n",
       "      <th>product_id</th>\n",
       "      <th>name</th>\n",
       "      <th>price</th>\n",
       "    </tr>\n",
       "  </thead>\n",
       "  <tbody>\n",
       "    <tr>\n",
       "      <th>0</th>\n",
       "      <td>1</td>\n",
       "      <td>сахар</td>\n",
       "      <td>150.0</td>\n",
       "    </tr>\n",
       "    <tr>\n",
       "      <th>1</th>\n",
       "      <td>2</td>\n",
       "      <td>чай зеленый в пакетиках</td>\n",
       "      <td>50.0</td>\n",
       "    </tr>\n",
       "    <tr>\n",
       "      <th>2</th>\n",
       "      <td>3</td>\n",
       "      <td>вода негазированная</td>\n",
       "      <td>80.4</td>\n",
       "    </tr>\n",
       "  </tbody>\n",
       "</table>\n",
       "</div>"
      ],
      "text/plain": [
       "   product_id                     name  price\n",
       "0           1                    сахар  150.0\n",
       "1           2  чай зеленый в пакетиках   50.0\n",
       "2           3      вода негазированная   80.4"
      ]
     },
     "execution_count": 14,
     "metadata": {},
     "output_type": "execute_result"
    }
   ],
   "source": [
    "products.head(3)"
   ]
  },
  {
   "cell_type": "code",
   "execution_count": 15,
   "metadata": {},
   "outputs": [
    {
     "name": "stdout",
     "output_type": "stream",
     "text": [
      "<class 'pandas.core.frame.DataFrame'>\n",
      "RangeIndex: 87 entries, 0 to 86\n",
      "Data columns (total 3 columns):\n",
      " #   Column      Non-Null Count  Dtype  \n",
      "---  ------      --------------  -----  \n",
      " 0   product_id  87 non-null     int64  \n",
      " 1   name        87 non-null     object \n",
      " 2   price       87 non-null     float64\n",
      "dtypes: float64(1), int64(1), object(1)\n",
      "memory usage: 2.2+ KB\n"
     ]
    }
   ],
   "source": [
    "products.info()"
   ]
  },
  {
   "cell_type": "markdown",
   "metadata": {},
   "source": [
    "В таблице продуктов 87 строк; пропущенных значений; типы данных корректны."
   ]
  },
  {
   "cell_type": "markdown",
   "metadata": {},
   "source": [
    "Объединим все три таблицы в одну, чтобы получить единый источник информации. В таблице заказов id продуктов перечислены строкой в одной ячейке. Распарсим данные."
   ]
  },
  {
   "cell_type": "code",
   "execution_count": 367,
   "metadata": {},
   "outputs": [],
   "source": [
    "# Каждое значение в колонке product_ids преобразуем сначала из str в set.\n",
    "orders.product_ids = orders.product_ids.apply(lambda x: eval(x))"
   ]
  },
  {
   "cell_type": "code",
   "execution_count": 368,
   "metadata": {},
   "outputs": [],
   "source": [
    "# Развернем данные по-элементно в колоке product_ids и переименуем колонку. \n",
    "orders = orders.explode('product_ids').rename(columns = {'product_ids': 'product_id'})"
   ]
  },
  {
   "cell_type": "code",
   "execution_count": 369,
   "metadata": {},
   "outputs": [],
   "source": [
    "# Соединяем все три таблицы по типу внутреннего соединения, по ключу order_id.\n",
    "orders_total = orders.merge(products, on = 'product_id').merge(users, on = 'order_id').drop(columns = 'time')"
   ]
  },
  {
   "cell_type": "code",
   "execution_count": 331,
   "metadata": {},
   "outputs": [
    {
     "data": {
      "text/html": [
       "<div>\n",
       "<style scoped>\n",
       "    .dataframe tbody tr th:only-of-type {\n",
       "        vertical-align: middle;\n",
       "    }\n",
       "\n",
       "    .dataframe tbody tr th {\n",
       "        vertical-align: top;\n",
       "    }\n",
       "\n",
       "    .dataframe thead th {\n",
       "        text-align: right;\n",
       "    }\n",
       "</style>\n",
       "<table border=\"1\" class=\"dataframe\">\n",
       "  <thead>\n",
       "    <tr style=\"text-align: right;\">\n",
       "      <th></th>\n",
       "      <th>order_id</th>\n",
       "      <th>creation_time</th>\n",
       "      <th>product_id</th>\n",
       "      <th>name</th>\n",
       "      <th>price</th>\n",
       "      <th>user_id</th>\n",
       "      <th>action</th>\n",
       "      <th>date</th>\n",
       "      <th>group</th>\n",
       "    </tr>\n",
       "  </thead>\n",
       "  <tbody>\n",
       "    <tr>\n",
       "      <th>0</th>\n",
       "      <td>1255</td>\n",
       "      <td>2022-08-26 00:00:19</td>\n",
       "      <td>75</td>\n",
       "      <td>сок ананасовый</td>\n",
       "      <td>120.0</td>\n",
       "      <td>964</td>\n",
       "      <td>create_order</td>\n",
       "      <td>2022-08-26</td>\n",
       "      <td>0</td>\n",
       "    </tr>\n",
       "    <tr>\n",
       "      <th>1</th>\n",
       "      <td>1255</td>\n",
       "      <td>2022-08-26 00:00:19</td>\n",
       "      <td>84</td>\n",
       "      <td>мандарины</td>\n",
       "      <td>90.4</td>\n",
       "      <td>964</td>\n",
       "      <td>create_order</td>\n",
       "      <td>2022-08-26</td>\n",
       "      <td>0</td>\n",
       "    </tr>\n",
       "    <tr>\n",
       "      <th>2</th>\n",
       "      <td>1255</td>\n",
       "      <td>2022-08-26 00:00:19</td>\n",
       "      <td>53</td>\n",
       "      <td>мука</td>\n",
       "      <td>78.3</td>\n",
       "      <td>964</td>\n",
       "      <td>create_order</td>\n",
       "      <td>2022-08-26</td>\n",
       "      <td>0</td>\n",
       "    </tr>\n",
       "    <tr>\n",
       "      <th>3</th>\n",
       "      <td>1255</td>\n",
       "      <td>2022-08-26 00:00:19</td>\n",
       "      <td>22</td>\n",
       "      <td>сок мультифрукт</td>\n",
       "      <td>120.0</td>\n",
       "      <td>964</td>\n",
       "      <td>create_order</td>\n",
       "      <td>2022-08-26</td>\n",
       "      <td>0</td>\n",
       "    </tr>\n",
       "    <tr>\n",
       "      <th>4</th>\n",
       "      <td>1287</td>\n",
       "      <td>2022-08-26 00:31:36</td>\n",
       "      <td>75</td>\n",
       "      <td>сок ананасовый</td>\n",
       "      <td>120.0</td>\n",
       "      <td>987</td>\n",
       "      <td>create_order</td>\n",
       "      <td>2022-08-26</td>\n",
       "      <td>0</td>\n",
       "    </tr>\n",
       "    <tr>\n",
       "      <th>5</th>\n",
       "      <td>1287</td>\n",
       "      <td>2022-08-26 00:31:36</td>\n",
       "      <td>83</td>\n",
       "      <td>вафли</td>\n",
       "      <td>55.0</td>\n",
       "      <td>987</td>\n",
       "      <td>create_order</td>\n",
       "      <td>2022-08-26</td>\n",
       "      <td>0</td>\n",
       "    </tr>\n",
       "    <tr>\n",
       "      <th>6</th>\n",
       "      <td>1403</td>\n",
       "      <td>2022-08-26 03:01:40</td>\n",
       "      <td>75</td>\n",
       "      <td>сок ананасовый</td>\n",
       "      <td>120.0</td>\n",
       "      <td>1073</td>\n",
       "      <td>create_order</td>\n",
       "      <td>2022-08-26</td>\n",
       "      <td>1</td>\n",
       "    </tr>\n",
       "    <tr>\n",
       "      <th>7</th>\n",
       "      <td>1403</td>\n",
       "      <td>2022-08-26 03:01:40</td>\n",
       "      <td>67</td>\n",
       "      <td>соль</td>\n",
       "      <td>30.0</td>\n",
       "      <td>1073</td>\n",
       "      <td>create_order</td>\n",
       "      <td>2022-08-26</td>\n",
       "      <td>1</td>\n",
       "    </tr>\n",
       "    <tr>\n",
       "      <th>8</th>\n",
       "      <td>1403</td>\n",
       "      <td>2022-08-26 03:01:40</td>\n",
       "      <td>30</td>\n",
       "      <td>энергетический напиток</td>\n",
       "      <td>140.0</td>\n",
       "      <td>1073</td>\n",
       "      <td>create_order</td>\n",
       "      <td>2022-08-26</td>\n",
       "      <td>1</td>\n",
       "    </tr>\n",
       "    <tr>\n",
       "      <th>9</th>\n",
       "      <td>1403</td>\n",
       "      <td>2022-08-26 03:01:40</td>\n",
       "      <td>83</td>\n",
       "      <td>вафли</td>\n",
       "      <td>55.0</td>\n",
       "      <td>1073</td>\n",
       "      <td>create_order</td>\n",
       "      <td>2022-08-26</td>\n",
       "      <td>1</td>\n",
       "    </tr>\n",
       "    <tr>\n",
       "      <th>10</th>\n",
       "      <td>1403</td>\n",
       "      <td>2022-08-26 03:01:40</td>\n",
       "      <td>2</td>\n",
       "      <td>чай зеленый в пакетиках</td>\n",
       "      <td>50.0</td>\n",
       "      <td>1073</td>\n",
       "      <td>create_order</td>\n",
       "      <td>2022-08-26</td>\n",
       "      <td>1</td>\n",
       "    </tr>\n",
       "    <tr>\n",
       "      <th>11</th>\n",
       "      <td>1403</td>\n",
       "      <td>2022-08-26 03:01:40</td>\n",
       "      <td>50</td>\n",
       "      <td>чай холодный</td>\n",
       "      <td>35.0</td>\n",
       "      <td>1073</td>\n",
       "      <td>create_order</td>\n",
       "      <td>2022-08-26</td>\n",
       "      <td>1</td>\n",
       "    </tr>\n",
       "    <tr>\n",
       "      <th>12</th>\n",
       "      <td>1424</td>\n",
       "      <td>2022-08-26 04:01:22</td>\n",
       "      <td>75</td>\n",
       "      <td>сок ананасовый</td>\n",
       "      <td>120.0</td>\n",
       "      <td>1089</td>\n",
       "      <td>create_order</td>\n",
       "      <td>2022-08-26</td>\n",
       "      <td>1</td>\n",
       "    </tr>\n",
       "    <tr>\n",
       "      <th>13</th>\n",
       "      <td>1424</td>\n",
       "      <td>2022-08-26 04:01:22</td>\n",
       "      <td>5</td>\n",
       "      <td>кофе 3 в 1</td>\n",
       "      <td>15.0</td>\n",
       "      <td>1089</td>\n",
       "      <td>create_order</td>\n",
       "      <td>2022-08-26</td>\n",
       "      <td>1</td>\n",
       "    </tr>\n",
       "    <tr>\n",
       "      <th>14</th>\n",
       "      <td>1424</td>\n",
       "      <td>2022-08-26 04:01:22</td>\n",
       "      <td>2</td>\n",
       "      <td>чай зеленый в пакетиках</td>\n",
       "      <td>50.0</td>\n",
       "      <td>1089</td>\n",
       "      <td>create_order</td>\n",
       "      <td>2022-08-26</td>\n",
       "      <td>1</td>\n",
       "    </tr>\n",
       "  </tbody>\n",
       "</table>\n",
       "</div>"
      ],
      "text/plain": [
       "    order_id       creation_time product_id                     name  price  \\\n",
       "0       1255 2022-08-26 00:00:19         75           сок ананасовый  120.0   \n",
       "1       1255 2022-08-26 00:00:19         84                мандарины   90.4   \n",
       "2       1255 2022-08-26 00:00:19         53                     мука   78.3   \n",
       "3       1255 2022-08-26 00:00:19         22          сок мультифрукт  120.0   \n",
       "4       1287 2022-08-26 00:31:36         75           сок ананасовый  120.0   \n",
       "5       1287 2022-08-26 00:31:36         83                    вафли   55.0   \n",
       "6       1403 2022-08-26 03:01:40         75           сок ананасовый  120.0   \n",
       "7       1403 2022-08-26 03:01:40         67                     соль   30.0   \n",
       "8       1403 2022-08-26 03:01:40         30   энергетический напиток  140.0   \n",
       "9       1403 2022-08-26 03:01:40         83                    вафли   55.0   \n",
       "10      1403 2022-08-26 03:01:40          2  чай зеленый в пакетиках   50.0   \n",
       "11      1403 2022-08-26 03:01:40         50             чай холодный   35.0   \n",
       "12      1424 2022-08-26 04:01:22         75           сок ананасовый  120.0   \n",
       "13      1424 2022-08-26 04:01:22          5               кофе 3 в 1   15.0   \n",
       "14      1424 2022-08-26 04:01:22          2  чай зеленый в пакетиках   50.0   \n",
       "\n",
       "    user_id        action       date  group  \n",
       "0       964  create_order 2022-08-26      0  \n",
       "1       964  create_order 2022-08-26      0  \n",
       "2       964  create_order 2022-08-26      0  \n",
       "3       964  create_order 2022-08-26      0  \n",
       "4       987  create_order 2022-08-26      0  \n",
       "5       987  create_order 2022-08-26      0  \n",
       "6      1073  create_order 2022-08-26      1  \n",
       "7      1073  create_order 2022-08-26      1  \n",
       "8      1073  create_order 2022-08-26      1  \n",
       "9      1073  create_order 2022-08-26      1  \n",
       "10     1073  create_order 2022-08-26      1  \n",
       "11     1073  create_order 2022-08-26      1  \n",
       "12     1089  create_order 2022-08-26      1  \n",
       "13     1089  create_order 2022-08-26      1  \n",
       "14     1089  create_order 2022-08-26      1  "
      ]
     },
     "execution_count": 331,
     "metadata": {},
     "output_type": "execute_result"
    }
   ],
   "source": [
    "orders_total.head(15)"
   ]
  },
  {
   "cell_type": "code",
   "execution_count": 20,
   "metadata": {},
   "outputs": [
    {
     "name": "stdout",
     "output_type": "stream",
     "text": [
      "<class 'pandas.core.frame.DataFrame'>\n",
      "Int64Index: 14277 entries, 0 to 14276\n",
      "Data columns (total 9 columns):\n",
      " #   Column         Non-Null Count  Dtype         \n",
      "---  ------         --------------  -----         \n",
      " 0   order_id       14277 non-null  int64         \n",
      " 1   creation_time  14277 non-null  datetime64[ns]\n",
      " 2   product_id     14277 non-null  object        \n",
      " 3   name           14277 non-null  object        \n",
      " 4   price          14277 non-null  float64       \n",
      " 5   user_id        14277 non-null  int64         \n",
      " 6   action         14277 non-null  object        \n",
      " 7   date           14277 non-null  datetime64[ns]\n",
      " 8   group          14277 non-null  int64         \n",
      "dtypes: datetime64[ns](2), float64(1), int64(3), object(3)\n",
      "memory usage: 1.1+ MB\n"
     ]
    }
   ],
   "source": [
    "orders_total.info()"
   ]
  },
  {
   "cell_type": "code",
   "execution_count": 332,
   "metadata": {},
   "outputs": [
    {
     "data": {
      "text/plain": [
       "0"
      ]
     },
     "execution_count": 332,
     "metadata": {},
     "output_type": "execute_result"
    }
   ],
   "source": [
    "# Проверим дубликаты в объединенной таблице\n",
    "orders_total.duplicated().sum()"
   ]
  },
  {
   "cell_type": "markdown",
   "metadata": {},
   "source": [
    "В обобщенной таблице пропусков нет; типы данных корректны; дубликаты отсутствуют."
   ]
  },
  {
   "cell_type": "markdown",
   "metadata": {},
   "source": [
    "Согласно условию задачи есть заказы, которые были отменены."
   ]
  },
  {
   "cell_type": "code",
   "execution_count": 371,
   "metadata": {},
   "outputs": [
    {
     "data": {
      "text/plain": [
       "array(['create_order'], dtype=object)"
      ]
     },
     "execution_count": 371,
     "metadata": {},
     "output_type": "execute_result"
    }
   ],
   "source": [
    "# Проверим статус заказов.\n",
    "orders_total.action.unique()"
   ]
  },
  {
   "cell_type": "code",
   "execution_count": 372,
   "metadata": {},
   "outputs": [],
   "source": [
    "# Чтобы оценить эффективность системы рекомендаций, нам понадобятся только успешные(доставленные) заказы.\n",
    "# Удалим строки, содержащие отмененные заказы.\n",
    "orders_total = orders_total.query('action == \"create_order\"')"
   ]
  },
  {
   "cell_type": "code",
   "execution_count": 373,
   "metadata": {},
   "outputs": [
    {
     "data": {
      "text/html": [
       "<div>\n",
       "<style scoped>\n",
       "    .dataframe tbody tr th:only-of-type {\n",
       "        vertical-align: middle;\n",
       "    }\n",
       "\n",
       "    .dataframe tbody tr th {\n",
       "        vertical-align: top;\n",
       "    }\n",
       "\n",
       "    .dataframe thead th {\n",
       "        text-align: right;\n",
       "    }\n",
       "</style>\n",
       "<table border=\"1\" class=\"dataframe\">\n",
       "  <thead>\n",
       "    <tr style=\"text-align: right;\">\n",
       "      <th></th>\n",
       "      <th>group</th>\n",
       "      <th>user_id</th>\n",
       "      <th>order_id</th>\n",
       "      <th>action</th>\n",
       "      <th>product_id</th>\n",
       "      <th>name</th>\n",
       "      <th>price</th>\n",
       "      <th>date</th>\n",
       "    </tr>\n",
       "  </thead>\n",
       "  <tbody>\n",
       "    <tr>\n",
       "      <th>0</th>\n",
       "      <td>control</td>\n",
       "      <td>964</td>\n",
       "      <td>1255</td>\n",
       "      <td>create_order</td>\n",
       "      <td>75</td>\n",
       "      <td>сок ананасовый</td>\n",
       "      <td>120.0</td>\n",
       "      <td>2022-08-26</td>\n",
       "    </tr>\n",
       "    <tr>\n",
       "      <th>1</th>\n",
       "      <td>control</td>\n",
       "      <td>964</td>\n",
       "      <td>1255</td>\n",
       "      <td>create_order</td>\n",
       "      <td>84</td>\n",
       "      <td>мандарины</td>\n",
       "      <td>90.4</td>\n",
       "      <td>2022-08-26</td>\n",
       "    </tr>\n",
       "    <tr>\n",
       "      <th>2</th>\n",
       "      <td>control</td>\n",
       "      <td>964</td>\n",
       "      <td>1255</td>\n",
       "      <td>create_order</td>\n",
       "      <td>53</td>\n",
       "      <td>мука</td>\n",
       "      <td>78.3</td>\n",
       "      <td>2022-08-26</td>\n",
       "    </tr>\n",
       "    <tr>\n",
       "      <th>3</th>\n",
       "      <td>control</td>\n",
       "      <td>964</td>\n",
       "      <td>1255</td>\n",
       "      <td>create_order</td>\n",
       "      <td>22</td>\n",
       "      <td>сок мультифрукт</td>\n",
       "      <td>120.0</td>\n",
       "      <td>2022-08-26</td>\n",
       "    </tr>\n",
       "    <tr>\n",
       "      <th>4</th>\n",
       "      <td>control</td>\n",
       "      <td>987</td>\n",
       "      <td>1287</td>\n",
       "      <td>create_order</td>\n",
       "      <td>75</td>\n",
       "      <td>сок ананасовый</td>\n",
       "      <td>120.0</td>\n",
       "      <td>2022-08-26</td>\n",
       "    </tr>\n",
       "  </tbody>\n",
       "</table>\n",
       "</div>"
      ],
      "text/plain": [
       "     group  user_id  order_id        action product_id             name  \\\n",
       "0  control      964      1255  create_order         75   сок ананасовый   \n",
       "1  control      964      1255  create_order         84        мандарины   \n",
       "2  control      964      1255  create_order         53             мука   \n",
       "3  control      964      1255  create_order         22  сок мультифрукт   \n",
       "4  control      987      1287  create_order         75   сок ананасовый   \n",
       "\n",
       "   price       date  \n",
       "0  120.0 2022-08-26  \n",
       "1   90.4 2022-08-26  \n",
       "2   78.3 2022-08-26  \n",
       "3  120.0 2022-08-26  \n",
       "4  120.0 2022-08-26  "
      ]
     },
     "execution_count": 373,
     "metadata": {},
     "output_type": "execute_result"
    }
   ],
   "source": [
    "# Преобразуем таблицу с данными к удобному виду: определим иной порядок столбцов и присвоим имена группам.\n",
    "orders_total = orders_total[['group', 'user_id', 'order_id', 'action', 'product_id', 'name', 'price', 'date']]\n",
    "orders_total['group'] = orders_total['group'].apply(lambda x: 'control' if x == 0 else 'experimental')\n",
    "orders_total.head()"
   ]
  },
  {
   "cell_type": "markdown",
   "metadata": {},
   "source": [
    "За метрики качества сервиса примем средний чек (AOV), среднюю выручку на одного платящего пользователя (ARPPU), среднее число заказов на одного пользователя и средний объем продуктовой корзины, измеряемый в количестве единиц продукта относительно одного заказа.  <br>\n",
    "* AOV = Общая выручка за период / Количество заказов за тот же период;\n",
    "* ARPPU = Общая выручка за период / Количество пользователей за тот же период;\n",
    "* Среднее число заказов на одного пользователя = Общее число заказов за период / Количество пользователей за тот же период;\n",
    "* Средний объем продуктовой корзины = Общее число наименований продуктов  за период / Количество заказов за тот же период."
   ]
  },
  {
   "cell_type": "code",
   "execution_count": 385,
   "metadata": {},
   "outputs": [
    {
     "data": {
      "text/html": [
       "<div>\n",
       "<style scoped>\n",
       "    .dataframe tbody tr th:only-of-type {\n",
       "        vertical-align: middle;\n",
       "    }\n",
       "\n",
       "    .dataframe tbody tr th {\n",
       "        vertical-align: top;\n",
       "    }\n",
       "\n",
       "    .dataframe thead th {\n",
       "        text-align: right;\n",
       "    }\n",
       "</style>\n",
       "<table border=\"1\" class=\"dataframe\">\n",
       "  <thead>\n",
       "    <tr style=\"text-align: right;\">\n",
       "      <th></th>\n",
       "      <th>group</th>\n",
       "      <th>user_cnt</th>\n",
       "      <th>order_cnt</th>\n",
       "      <th>revenue</th>\n",
       "      <th>product_mean</th>\n",
       "    </tr>\n",
       "  </thead>\n",
       "  <tbody>\n",
       "    <tr>\n",
       "      <th>0</th>\n",
       "      <td>control</td>\n",
       "      <td>515</td>\n",
       "      <td>1609</td>\n",
       "      <td>602491.7</td>\n",
       "      <td>3.284027</td>\n",
       "    </tr>\n",
       "    <tr>\n",
       "      <th>1</th>\n",
       "      <td>experimental</td>\n",
       "      <td>502</td>\n",
       "      <td>2514</td>\n",
       "      <td>910009.3</td>\n",
       "      <td>3.287987</td>\n",
       "    </tr>\n",
       "  </tbody>\n",
       "</table>\n",
       "</div>"
      ],
      "text/plain": [
       "          group  user_cnt  order_cnt   revenue  product_mean\n",
       "0       control       515       1609  602491.7      3.284027\n",
       "1  experimental       502       2514  910009.3      3.287987"
      ]
     },
     "execution_count": 385,
     "metadata": {},
     "output_type": "execute_result"
    }
   ],
   "source": [
    "# Сформируем предварительную таблицу для исчисления метрик качества.\n",
    "# Сначала сгруппируем данные по группе, пользователю и заказу. Найдем выручку  и общее число позиций в заказе\n",
    "# для каждого пользователя.\n",
    "# На втором этапе сгруппируем данные только по группам и вычислим общее число пользователей в каждой группе,\n",
    "# число уникальных заказов, общую сумму выручки и средний размер продуктовой корзины.\n",
    "metrics = orders_total \\\n",
    "                 .groupby(['group', 'user_id', 'order_id'], as_index = False) \\\n",
    "                 .agg(revenue_with_user_order     = pd.NamedAgg(column = 'price', aggfunc = 'sum'), \\\n",
    "                      product_cnt_with_user_order = pd.NamedAgg(column = 'product_id', aggfunc = 'count')) \\\n",
    "                 .groupby('group', as_index = False) \\\n",
    "                 .agg(user_cnt     = pd.NamedAgg(column = 'user_id', aggfunc = 'nunique'), \\\n",
    "                      order_cnt    = pd.NamedAgg(column = 'order_id', aggfunc = 'count'), \\\n",
    "                      revenue      = pd.NamedAgg(column = 'revenue_with_user_order', aggfunc = 'sum'), \\\n",
    "                      product_mean = pd.NamedAgg(column = 'product_cnt_with_user_order', aggfunc = 'mean'))\n",
    "                      \n",
    "\n",
    "metrics"
   ]
  },
  {
   "cell_type": "code",
   "execution_count": 375,
   "metadata": {},
   "outputs": [
    {
     "data": {
      "text/html": [
       "<div>\n",
       "<style scoped>\n",
       "    .dataframe tbody tr th:only-of-type {\n",
       "        vertical-align: middle;\n",
       "    }\n",
       "\n",
       "    .dataframe tbody tr th {\n",
       "        vertical-align: top;\n",
       "    }\n",
       "\n",
       "    .dataframe thead th {\n",
       "        text-align: right;\n",
       "    }\n",
       "</style>\n",
       "<table border=\"1\" class=\"dataframe\">\n",
       "  <thead>\n",
       "    <tr style=\"text-align: right;\">\n",
       "      <th></th>\n",
       "      <th>group</th>\n",
       "      <th>user_cnt</th>\n",
       "      <th>product_mean</th>\n",
       "      <th>arppu</th>\n",
       "      <th>aov</th>\n",
       "      <th>order_per_user</th>\n",
       "    </tr>\n",
       "  </thead>\n",
       "  <tbody>\n",
       "    <tr>\n",
       "      <th>0</th>\n",
       "      <td>control</td>\n",
       "      <td>515</td>\n",
       "      <td>3.284027</td>\n",
       "      <td>1169.886796</td>\n",
       "      <td>374.451025</td>\n",
       "      <td>3.124272</td>\n",
       "    </tr>\n",
       "    <tr>\n",
       "      <th>1</th>\n",
       "      <td>experimental</td>\n",
       "      <td>502</td>\n",
       "      <td>3.287987</td>\n",
       "      <td>1812.767530</td>\n",
       "      <td>361.976651</td>\n",
       "      <td>5.007968</td>\n",
       "    </tr>\n",
       "  </tbody>\n",
       "</table>\n",
       "</div>"
      ],
      "text/plain": [
       "          group  user_cnt  product_mean        arppu         aov  \\\n",
       "0       control       515      3.284027  1169.886796  374.451025   \n",
       "1  experimental       502      3.287987  1812.767530  361.976651   \n",
       "\n",
       "   order_per_user  \n",
       "0        3.124272  \n",
       "1        5.007968  "
      ]
     },
     "execution_count": 375,
     "metadata": {},
     "output_type": "execute_result"
    }
   ],
   "source": [
    "# Получим интересующие метрики качества сервиса и удалим вспомогательные колонки.\n",
    "metrics = metrics.assign(arppu = metrics.revenue / metrics.user_cnt,\n",
    "                 aov = metrics.revenue / metrics.order_cnt,\n",
    "                 order_per_user = metrics.order_cnt / metrics.user_cnt)\n",
    "metrics.drop(columns = ['order_cnt', 'revenue'], inplace = True)\n",
    "metrics"
   ]
  },
  {
   "cell_type": "code",
   "execution_count": 376,
   "metadata": {},
   "outputs": [],
   "source": [
    "# Сформируем относительные показатели метрик качества.\n",
    "delta_dict = {'user_cnt': \"{:+.2%}\".format(((metrics.query('group == \"experimental\"').user_cnt.values - metrics.query('group == \"control\"').user_cnt.values) \\\n",
    "                          / max(metrics.query('group == \"experimental\"').user_cnt.values, metrics.query('group == \"control\"').user_cnt.values))[0]),\n",
    "              'product_mean': \"{:+.2%}\".format(((metrics.query('group == \"experimental\"').product_mean.values - metrics.query('group == \"control\"').product_mean.values) \\\n",
    "                          / max(metrics.query('group == \"experimental\"').product_mean.values, metrics.query('group == \"control\"').product_mean.values))[0]),\n",
    "              'arppu': \"{:+.2%}\".format(((metrics.query('group == \"experimental\"').arppu.values - metrics.query('group == \"control\"').arppu.values) \\\n",
    "                          / max(metrics.query('group == \"experimental\"').arppu.values, metrics.query('group == \"control\"').arppu.values))[0]),\n",
    "              'aov': \"{:+.2%}\".format(((metrics.query('group == \"experimental\"').aov.values - metrics.query('group == \"control\"').aov.values) \\\n",
    "                          / max(metrics.query('group == \"experimental\"').aov.values, metrics.query('group == \"control\"').aov.values))[0]),\n",
    "              'order_per_user': \"{:+.2%}\".format(((metrics.query('group == \"experimental\"').order_per_user.values - metrics.query('group == \"control\"').order_per_user.values) \\\n",
    "                          / max(metrics.query('group == \"experimental\"').order_per_user.values, metrics.query('group == \"control\"').order_per_user.values))[0])}\n",
    "delta_metrics = pd.DataFrame(delta_dict, index = ['delta'])"
   ]
  },
  {
   "cell_type": "code",
   "execution_count": 377,
   "metadata": {},
   "outputs": [
    {
     "data": {
      "text/html": [
       "<div>\n",
       "<style scoped>\n",
       "    .dataframe tbody tr th:only-of-type {\n",
       "        vertical-align: middle;\n",
       "    }\n",
       "\n",
       "    .dataframe tbody tr th {\n",
       "        vertical-align: top;\n",
       "    }\n",
       "\n",
       "    .dataframe thead th {\n",
       "        text-align: right;\n",
       "    }\n",
       "</style>\n",
       "<table border=\"1\" class=\"dataframe\">\n",
       "  <thead>\n",
       "    <tr style=\"text-align: right;\">\n",
       "      <th></th>\n",
       "      <th>user_cnt</th>\n",
       "      <th>product_mean</th>\n",
       "      <th>arppu</th>\n",
       "      <th>aov</th>\n",
       "      <th>order_per_user</th>\n",
       "    </tr>\n",
       "  </thead>\n",
       "  <tbody>\n",
       "    <tr>\n",
       "      <th>delta</th>\n",
       "      <td>-2.52%</td>\n",
       "      <td>+0.12%</td>\n",
       "      <td>+35.46%</td>\n",
       "      <td>-3.33%</td>\n",
       "      <td>+37.61%</td>\n",
       "    </tr>\n",
       "  </tbody>\n",
       "</table>\n",
       "</div>"
      ],
      "text/plain": [
       "      user_cnt product_mean    arppu     aov order_per_user\n",
       "delta   -2.52%       +0.12%  +35.46%  -3.33%        +37.61%"
      ]
     },
     "execution_count": 377,
     "metadata": {},
     "output_type": "execute_result"
    }
   ],
   "source": [
    "delta_metrics"
   ]
  },
  {
   "cell_type": "markdown",
   "metadata": {},
   "source": [
    "Число пользователей по группам отличается незначительно, всего лишь на 2,5%. Таким отклонением можно пренебречь и принять утверждение о равенстве двух выборок.<br>\n",
    "В результате применения нового алгоритма имеют значительный рост выручка и  среднее число заказов; число продуктов в одном заказе имеет незначительный рост (меньше 1%); средний чек в экспериментальной группе стал меньше на 3,33%."
   ]
  },
  {
   "cell_type": "markdown",
   "metadata": {},
   "source": [
    "Визуализируем различия в метриках по группам с построением доверительного интервала к каждому среднему значению."
   ]
  },
  {
   "cell_type": "code",
   "execution_count": 378,
   "metadata": {},
   "outputs": [
    {
     "data": {
      "text/html": [
       "<div>\n",
       "<style scoped>\n",
       "    .dataframe tbody tr th:only-of-type {\n",
       "        vertical-align: middle;\n",
       "    }\n",
       "\n",
       "    .dataframe tbody tr th {\n",
       "        vertical-align: top;\n",
       "    }\n",
       "\n",
       "    .dataframe thead th {\n",
       "        text-align: right;\n",
       "    }\n",
       "</style>\n",
       "<table border=\"1\" class=\"dataframe\">\n",
       "  <thead>\n",
       "    <tr style=\"text-align: right;\">\n",
       "      <th></th>\n",
       "      <th>group</th>\n",
       "      <th>user_id</th>\n",
       "      <th>revenue</th>\n",
       "      <th>order_cnt</th>\n",
       "    </tr>\n",
       "  </thead>\n",
       "  <tbody>\n",
       "    <tr>\n",
       "      <th>0</th>\n",
       "      <td>control</td>\n",
       "      <td>964</td>\n",
       "      <td>718.9</td>\n",
       "      <td>2</td>\n",
       "    </tr>\n",
       "    <tr>\n",
       "      <th>1</th>\n",
       "      <td>control</td>\n",
       "      <td>966</td>\n",
       "      <td>85.0</td>\n",
       "      <td>1</td>\n",
       "    </tr>\n",
       "    <tr>\n",
       "      <th>2</th>\n",
       "      <td>control</td>\n",
       "      <td>968</td>\n",
       "      <td>1590.7</td>\n",
       "      <td>3</td>\n",
       "    </tr>\n",
       "    <tr>\n",
       "      <th>3</th>\n",
       "      <td>control</td>\n",
       "      <td>969</td>\n",
       "      <td>681.9</td>\n",
       "      <td>2</td>\n",
       "    </tr>\n",
       "    <tr>\n",
       "      <th>4</th>\n",
       "      <td>control</td>\n",
       "      <td>972</td>\n",
       "      <td>546.4</td>\n",
       "      <td>1</td>\n",
       "    </tr>\n",
       "  </tbody>\n",
       "</table>\n",
       "</div>"
      ],
      "text/plain": [
       "     group  user_id  revenue  order_cnt\n",
       "0  control      964    718.9          2\n",
       "1  control      966     85.0          1\n",
       "2  control      968   1590.7          3\n",
       "3  control      969    681.9          2\n",
       "4  control      972    546.4          1"
      ]
     },
     "execution_count": 378,
     "metadata": {},
     "output_type": "execute_result"
    }
   ],
   "source": [
    "# Сформируем таблицу с данными для визуализации ARPPU и среднего числа заказов. \n",
    "arppu_opu = orders_total \\\n",
    "                        .groupby(['group', 'user_id'], as_index = False) \\\n",
    "                        .agg(revenue = pd.NamedAgg(column = 'price', aggfunc = 'sum'), \\\n",
    "                            order_cnt = pd.NamedAgg(column = 'order_id', aggfunc = 'nunique'))\n",
    "arppu_opu.head()"
   ]
  },
  {
   "cell_type": "code",
   "execution_count": 379,
   "metadata": {},
   "outputs": [
    {
     "data": {
      "text/html": [
       "<div>\n",
       "<style scoped>\n",
       "    .dataframe tbody tr th:only-of-type {\n",
       "        vertical-align: middle;\n",
       "    }\n",
       "\n",
       "    .dataframe tbody tr th {\n",
       "        vertical-align: top;\n",
       "    }\n",
       "\n",
       "    .dataframe thead th {\n",
       "        text-align: right;\n",
       "    }\n",
       "</style>\n",
       "<table border=\"1\" class=\"dataframe\">\n",
       "  <thead>\n",
       "    <tr style=\"text-align: right;\">\n",
       "      <th></th>\n",
       "      <th>group</th>\n",
       "      <th>order_id</th>\n",
       "      <th>revenue</th>\n",
       "      <th>product_cnt</th>\n",
       "    </tr>\n",
       "  </thead>\n",
       "  <tbody>\n",
       "    <tr>\n",
       "      <th>0</th>\n",
       "      <td>control</td>\n",
       "      <td>1255</td>\n",
       "      <td>408.7</td>\n",
       "      <td>4</td>\n",
       "    </tr>\n",
       "    <tr>\n",
       "      <th>1</th>\n",
       "      <td>control</td>\n",
       "      <td>1257</td>\n",
       "      <td>310.2</td>\n",
       "      <td>4</td>\n",
       "    </tr>\n",
       "    <tr>\n",
       "      <th>2</th>\n",
       "      <td>control</td>\n",
       "      <td>1258</td>\n",
       "      <td>85.0</td>\n",
       "      <td>2</td>\n",
       "    </tr>\n",
       "    <tr>\n",
       "      <th>3</th>\n",
       "      <td>control</td>\n",
       "      <td>1261</td>\n",
       "      <td>430.7</td>\n",
       "      <td>4</td>\n",
       "    </tr>\n",
       "    <tr>\n",
       "      <th>4</th>\n",
       "      <td>control</td>\n",
       "      <td>1262</td>\n",
       "      <td>358.6</td>\n",
       "      <td>4</td>\n",
       "    </tr>\n",
       "  </tbody>\n",
       "</table>\n",
       "</div>"
      ],
      "text/plain": [
       "     group  order_id  revenue  product_cnt\n",
       "0  control      1255    408.7            4\n",
       "1  control      1257    310.2            4\n",
       "2  control      1258     85.0            2\n",
       "3  control      1261    430.7            4\n",
       "4  control      1262    358.6            4"
      ]
     },
     "execution_count": 379,
     "metadata": {},
     "output_type": "execute_result"
    }
   ],
   "source": [
    "# Сформируем таблицу с данными для визуализации AOV и среднего объема продуктовой корзины.\n",
    "aov_pm = orders_total \\\n",
    "                    .groupby(['group', 'order_id'], as_index = False) \\\n",
    "                    .agg(revenue = pd.NamedAgg(column = 'price', aggfunc = 'sum'), \\\n",
    "                        product_cnt = pd.NamedAgg(column = 'product_id', aggfunc = 'count'))\n",
    "aov_pm.head()"
   ]
  },
  {
   "cell_type": "code",
   "execution_count": 384,
   "metadata": {},
   "outputs": [
    {
     "data": {
      "image/png": "[encoded data removed]",
      "text/plain": [
       "<Figure size 1200x700 with 4 Axes>"
      ]
     },
     "metadata": {},
     "output_type": "display_data"
    }
   ],
   "source": [
    "# Визуализируем средние по группам.\n",
    "fig, axes = plt.subplots(nrows = 2, ncols = 2)\n",
    "# ARPPU\n",
    "sns.pointplot(x = 'group', y = 'revenue', data = arppu_opu, ax = axes[0,0])\n",
    "axes[0,0].set_title('Average Revenue Per Paying User', fontsize = 14)\n",
    "# AOV\n",
    "sns.pointplot(x = 'group', y='revenue', data=aov_pm, ax = axes[0,1])\n",
    "axes[0,1].set_title('Average Order Value', fontsize = 14)\n",
    "# Среднее число заказов.\n",
    "sns.pointplot(x = 'group', y = 'order_cnt', data = arppu_opu, ax = axes[1,0])\n",
    "axes[1,0].set_title('Average Number Orders Per Paying User', fontsize = 14)\n",
    "# Средний объем продуктовой корзины.\n",
    "sns.pointplot(x = 'group', y='product_cnt', data=aov_pm, ax = axes[1,1])\n",
    "axes[1,1].set_title('Average Volume  Products Per Order', fontsize = 14)\n",
    "\n",
    "fig.tight_layout()\n",
    "sns.despine()"
   ]
  },
  {
   "cell_type": "markdown",
   "metadata": {},
   "source": [
    "Средние значения в экспериментальной группе для выручки и среднего числа заказов превышают значения в контрольной. Их доверительные интервалы не пересекаются. Это дает основание предполагать, что различия в данных метриках статистически значимы. <br>\n",
    "Средние значения для размера продуктовой корзины и среднего чека имеют небольшие отклонения по группам, широкие доверительные интервалы, увеличивающие неопределенность и они явно пересекаются. Можно сделать предварительный вывод о том, что эти различия не имеют статистической значимости. Проверим данные baseline-утверждения при помощи стат. тестов."
   ]
  },
  {
   "cell_type": "markdown",
   "metadata": {},
   "source": [
    "Если объемы групп достаточно большие (число наблюдений в них > 30 ), и выборки совпадают по размерам, то можно не придерживаться требования нормальности распределения. Наши данные удовлетворяют выше описанным условиям, поэтому проверять данные на нормальность не будем.<br>\n",
    "Для выбора статистического теста осталось проверить равенство дисперсий в группах (гомогенность). Для этого будем использовать критерий Левена. Если тест покажет, что дисперсии по группам не отличаются, то для оценки разницы в средних будем использовать t-критерий Стьюдента, если же наоборот дисперсии не равны, то - t-критерий Уэлча, который позволяет применять t-статистику и при этом учитывает разницу между двумя стандартными отклонениями.  "
   ]
  },
  {
   "cell_type": "markdown",
   "metadata": {},
   "source": [
    "**Сформулируем нулевую и альтернативную гипотезы для проверки гомогенности дисперсии.**<br>\n",
    " - H0: дисперсии не отличаются по группам;\n",
    " - H1: дисперсии отличаются по группам."
   ]
  },
  {
   "cell_type": "code",
   "execution_count": 350,
   "metadata": {},
   "outputs": [
    {
     "data": {
      "text/html": [
       "<div>\n",
       "<style scoped>\n",
       "    .dataframe tbody tr th:only-of-type {\n",
       "        vertical-align: middle;\n",
       "    }\n",
       "\n",
       "    .dataframe tbody tr th {\n",
       "        vertical-align: top;\n",
       "    }\n",
       "\n",
       "    .dataframe thead th {\n",
       "        text-align: right;\n",
       "    }\n",
       "</style>\n",
       "<table border=\"1\" class=\"dataframe\">\n",
       "  <thead>\n",
       "    <tr style=\"text-align: right;\">\n",
       "      <th></th>\n",
       "      <th>W</th>\n",
       "      <th>pval</th>\n",
       "      <th>equal_var</th>\n",
       "    </tr>\n",
       "  </thead>\n",
       "  <tbody>\n",
       "    <tr>\n",
       "      <th>levene</th>\n",
       "      <td>15.616459</td>\n",
       "      <td>0.000083</td>\n",
       "      <td>False</td>\n",
       "    </tr>\n",
       "  </tbody>\n",
       "</table>\n",
       "</div>"
      ],
      "text/plain": [
       "                W      pval  equal_var\n",
       "levene  15.616459  0.000083      False"
      ]
     },
     "execution_count": 350,
     "metadata": {},
     "output_type": "execute_result"
    }
   ],
   "source": [
    "# Проверка гомогенности дисперсии для ARPPU.\n",
    "pg.homoscedasticity(data = arppu_opu, dv = 'revenue', group = 'group')"
   ]
  },
  {
   "cell_type": "code",
   "execution_count": 351,
   "metadata": {},
   "outputs": [
    {
     "data": {
      "text/html": [
       "<div>\n",
       "<style scoped>\n",
       "    .dataframe tbody tr th:only-of-type {\n",
       "        vertical-align: middle;\n",
       "    }\n",
       "\n",
       "    .dataframe tbody tr th {\n",
       "        vertical-align: top;\n",
       "    }\n",
       "\n",
       "    .dataframe thead th {\n",
       "        text-align: right;\n",
       "    }\n",
       "</style>\n",
       "<table border=\"1\" class=\"dataframe\">\n",
       "  <thead>\n",
       "    <tr style=\"text-align: right;\">\n",
       "      <th></th>\n",
       "      <th>W</th>\n",
       "      <th>pval</th>\n",
       "      <th>equal_var</th>\n",
       "    </tr>\n",
       "  </thead>\n",
       "  <tbody>\n",
       "    <tr>\n",
       "      <th>levene</th>\n",
       "      <td>16.16773</td>\n",
       "      <td>0.000062</td>\n",
       "      <td>False</td>\n",
       "    </tr>\n",
       "  </tbody>\n",
       "</table>\n",
       "</div>"
      ],
      "text/plain": [
       "               W      pval  equal_var\n",
       "levene  16.16773  0.000062      False"
      ]
     },
     "execution_count": 351,
     "metadata": {},
     "output_type": "execute_result"
    }
   ],
   "source": [
    "# Проверка гомогенности дисперсии для среднего числа заказов.\n",
    "pg.homoscedasticity(data = arppu_opu, dv = 'order_cnt', group = 'group')"
   ]
  },
  {
   "cell_type": "markdown",
   "metadata": {},
   "source": [
    "Для обоих тестов p-value < 0.05, тест отрицательный. Следовательно мы отклоняем нулевую гипотезу, т.е. условие гомогенности дисперсии не выполняется.<br>\n",
    "А это значит, что для оценки значимости в разнице средних для ARPPU и среднего числа заказов, будем использовать t-критерий Уэлча."
   ]
  },
  {
   "cell_type": "code",
   "execution_count": 352,
   "metadata": {},
   "outputs": [
    {
     "data": {
      "text/html": [
       "<div>\n",
       "<style scoped>\n",
       "    .dataframe tbody tr th:only-of-type {\n",
       "        vertical-align: middle;\n",
       "    }\n",
       "\n",
       "    .dataframe tbody tr th {\n",
       "        vertical-align: top;\n",
       "    }\n",
       "\n",
       "    .dataframe thead th {\n",
       "        text-align: right;\n",
       "    }\n",
       "</style>\n",
       "<table border=\"1\" class=\"dataframe\">\n",
       "  <thead>\n",
       "    <tr style=\"text-align: right;\">\n",
       "      <th></th>\n",
       "      <th>W</th>\n",
       "      <th>pval</th>\n",
       "      <th>equal_var</th>\n",
       "    </tr>\n",
       "  </thead>\n",
       "  <tbody>\n",
       "    <tr>\n",
       "      <th>levene</th>\n",
       "      <td>0.616473</td>\n",
       "      <td>0.432406</td>\n",
       "      <td>True</td>\n",
       "    </tr>\n",
       "  </tbody>\n",
       "</table>\n",
       "</div>"
      ],
      "text/plain": [
       "               W      pval  equal_var\n",
       "levene  0.616473  0.432406       True"
      ]
     },
     "execution_count": 352,
     "metadata": {},
     "output_type": "execute_result"
    }
   ],
   "source": [
    "# Проверка гомогенности дисперсии для AOV.\n",
    "pg.homoscedasticity(data = aov_pm, dv = 'revenue', group = 'group')"
   ]
  },
  {
   "cell_type": "code",
   "execution_count": 353,
   "metadata": {},
   "outputs": [
    {
     "data": {
      "text/html": [
       "<div>\n",
       "<style scoped>\n",
       "    .dataframe tbody tr th:only-of-type {\n",
       "        vertical-align: middle;\n",
       "    }\n",
       "\n",
       "    .dataframe tbody tr th {\n",
       "        vertical-align: top;\n",
       "    }\n",
       "\n",
       "    .dataframe thead th {\n",
       "        text-align: right;\n",
       "    }\n",
       "</style>\n",
       "<table border=\"1\" class=\"dataframe\">\n",
       "  <thead>\n",
       "    <tr style=\"text-align: right;\">\n",
       "      <th></th>\n",
       "      <th>W</th>\n",
       "      <th>pval</th>\n",
       "      <th>equal_var</th>\n",
       "    </tr>\n",
       "  </thead>\n",
       "  <tbody>\n",
       "    <tr>\n",
       "      <th>levene</th>\n",
       "      <td>1.575829</td>\n",
       "      <td>0.209434</td>\n",
       "      <td>True</td>\n",
       "    </tr>\n",
       "  </tbody>\n",
       "</table>\n",
       "</div>"
      ],
      "text/plain": [
       "               W      pval  equal_var\n",
       "levene  1.575829  0.209434       True"
      ]
     },
     "execution_count": 353,
     "metadata": {},
     "output_type": "execute_result"
    }
   ],
   "source": [
    "# Проверка гомогенности дисперсии для среднего объема продуктовой карзины.\n",
    "pg.homoscedasticity(data = aov_pm, dv = 'product_cnt', group = 'group') "
   ]
  },
  {
   "cell_type": "markdown",
   "metadata": {},
   "source": [
    "Для обоих тестов p-value > 0.05, тест положительный. Следовательно мы не можем отклонить нулевую гипотезу, т.е. условие гомогенности дисперсии выполняется.<br>\n",
    "А это значит, что для оценки значимости в разнице средних для среднего чека и среднего числа заказов, будем использовать t-критерий Стьюдента."
   ]
  },
  {
   "cell_type": "markdown",
   "metadata": {},
   "source": [
    "**Сформулируем нулевую и альтернативную гипотезы для проверки значимости эффекта от внедрения рекомендательной системы.**<br>\n",
    " - H0: средние по группам не отличаются;\n",
    " - H1: средние по группам отличаются."
   ]
  },
  {
   "cell_type": "code",
   "execution_count": 354,
   "metadata": {},
   "outputs": [
    {
     "data": {
      "text/plain": [
       "TtestResult(statistic=-11.714014287155067, pvalue=8.900523103269769e-30, df=992.4055301865121)"
      ]
     },
     "execution_count": 354,
     "metadata": {},
     "output_type": "execute_result"
    }
   ],
   "source": [
    "# ARPPU.\n",
    "ss.ttest_ind(arppu_opu.query('group == \"control\"').revenue, arppu_opu.query('group == \"experimental\"').revenue, equal_var = False)"
   ]
  },
  {
   "cell_type": "code",
   "execution_count": 355,
   "metadata": {},
   "outputs": [
    {
     "data": {
      "text/plain": [
       "TtestResult(statistic=-14.485156769858916, pvalue=2.9077831935473898e-43, df=988.4354749071716)"
      ]
     },
     "execution_count": 355,
     "metadata": {},
     "output_type": "execute_result"
    }
   ],
   "source": [
    "# Среднее число заказов.\n",
    "ss.ttest_ind(arppu_opu.query('group == \"control\"').order_cnt, arppu_opu.query('group == \"experimental\"').order_cnt, equal_var = False)"
   ]
  },
  {
   "cell_type": "code",
   "execution_count": 356,
   "metadata": {},
   "outputs": [
    {
     "data": {
      "text/plain": [
       "TtestResult(statistic=1.6276451303367758, pvalue=0.10367659971189314, df=4121.0)"
      ]
     },
     "execution_count": 356,
     "metadata": {},
     "output_type": "execute_result"
    }
   ],
   "source": [
    "# AOV.\n",
    "ss.ttest_ind(aov_pm.query('group == \"control\"').revenue, aov_pm.query('group == \"experimental\"').revenue)"
   ]
  },
  {
   "cell_type": "code",
   "execution_count": 357,
   "metadata": {},
   "outputs": [
    {
     "data": {
      "text/plain": [
       "TtestResult(statistic=-0.09831810423573854, pvalue=0.9216844843645677, df=4121.0)"
      ]
     },
     "execution_count": 357,
     "metadata": {},
     "output_type": "execute_result"
    }
   ],
   "source": [
    "# Средний объем продуктовой карзины.\n",
    "ss.ttest_ind(aov_pm.query('group == \"control\"').product_cnt, aov_pm.query('group == \"experimental\"').product_cnt)"
   ]
  },
  {
   "cell_type": "markdown",
   "metadata": {},
   "source": [
    "Для ARPPU и среднего числа заказов p-value < 0.05, для AOV и среднего объема продуктовой корзины p-value > 0.05. Следовательно различия в средних для ARPPU и среднего числа заказов имеют статистическую значимость, а для AOV и среднего объема продуктовой корзины стат. значимость отсутствует."
   ]
  },
  {
   "cell_type": "markdown",
   "metadata": {},
   "source": [
    "**Аналитическое заключение.**<br>\n",
    "Притом, что количество товаров в заказе пользователей не увеличилось, средний чек остался на том же уровне, пользователи стали делать заказы чаще. Результатом роста оборачиваемости товаров явилось увеличение выручки. Чем быстрее продаются товары, тем больше денег компания может получить за определенный период времени. Следовательно, внедрение умной системы рекомендаций товаров принесет пользу бизнесу. С другой стороны, ускорение оборачиваемости указывает и на увеличение спроса на товары. Т.е. рекомендательная система помогает пользователям эффективнее работать с приложением. Поэтому новую систему рекомендаций стоит включать на всех пользователей."
   ]
  }
 ],
 "metadata": {
  "kernelspec": {
   "display_name": "Python 3 (ipykernel)",
   "language": "python",
   "name": "python3"
  },
  "language_info": {
   "codemirror_mode": {
    "name": "ipython",
    "version": 3
   },
   "file_extension": ".py",
   "mimetype": "text/x-python",
   "name": "python",
   "nbconvert_exporter": "python",
   "pygments_lexer": "ipython3",
   "version": "3.11.5"
  }
 },
 "nbformat": 4,
 "nbformat_minor": 4
}
